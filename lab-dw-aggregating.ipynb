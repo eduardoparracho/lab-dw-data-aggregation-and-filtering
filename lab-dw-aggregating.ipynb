{
  "cells": [
    {
      "cell_type": "markdown",
      "id": "31969215-2a90-4d8b-ac36-646a7ae13744",
      "metadata": {
        "id": "31969215-2a90-4d8b-ac36-646a7ae13744"
      },
      "source": [
        "# Lab | Data Aggregation and Filtering"
      ]
    },
    {
      "cell_type": "markdown",
      "id": "a8f08a52-bec0-439b-99cc-11d3809d8b5d",
      "metadata": {
        "id": "a8f08a52-bec0-439b-99cc-11d3809d8b5d"
      },
      "source": [
        "In this challenge, we will continue to work with customer data from an insurance company. We will use the dataset called marketing_customer_analysis.csv, which can be found at the following link:\n",
        "\n",
        "https://raw.githubusercontent.com/data-bootcamp-v4/data/main/marketing_customer_analysis.csv\n",
        "\n",
        "This dataset contains information such as customer demographics, policy details, vehicle information, and the customer's response to the last marketing campaign. Our goal is to explore and analyze this data by first performing data cleaning, formatting, and structuring."
      ]
    },
    {
      "cell_type": "code",
      "execution_count": 23,
      "id": "4d48100c",
      "metadata": {},
      "outputs": [
        {
          "name": "stdout",
          "output_type": "stream",
          "text": [
            "Empty DataFrame\n",
            "Columns: [customer, state, customer_lifetime_value, response, coverage, education, effective_to_date, employment_status, gender, income, location_code, marital_status, monthly_premium_auto, months_since_last_claim, months_since_policy_inception, number_of_open_complaints, number_of_policies, policy_type, policy, renew_offer_type, sales_channel, total_claim_amount, vehicle_class, vehicle_size, vehicle_type]\n",
            "Index: []\n",
            "\n",
            "[0 rows x 25 columns]\n",
            "(10910, 25)\n"
          ]
        }
      ],
      "source": [
        "import pandas as pd\n",
        "\n",
        "df = pd.read_csv(\"https://raw.githubusercontent.com/data-bootcamp-v4/data/main/marketing_customer_analysis.csv\")\n",
        "\n",
        "df.drop(columns=['Unnamed: 0'], inplace=True)\n",
        "\n",
        "df.columns = df.columns.str.lower().str.split(' ').str.join('_')\n",
        "df.rename(columns={'employmentstatus': 'employment_status'}, inplace=True)\n",
        "\n",
        "print(df.head(0))\n",
        "print(df.shape)"
      ]
    },
    {
      "cell_type": "markdown",
      "id": "9c98ddc5-b041-4c94-ada1-4dfee5c98e50",
      "metadata": {
        "id": "9c98ddc5-b041-4c94-ada1-4dfee5c98e50"
      },
      "source": [
        "1. Create a new DataFrame that only includes customers who have a total_claim_amount greater than $1,000 and have a response of \"Yes\" to the last marketing campaign."
      ]
    },
    {
      "cell_type": "code",
      "execution_count": 24,
      "id": "4693b174",
      "metadata": {},
      "outputs": [
        {
          "name": "stdout",
          "output_type": "stream",
          "text": [
            "(67, 25)\n"
          ]
        }
      ],
      "source": [
        "big_cust = df[(df['total_claim_amount'] > 1000) & (df.response == 'Yes')]\n",
        "print(big_cust.shape)"
      ]
    },
    {
      "cell_type": "markdown",
      "id": "b9be383e-5165-436e-80c8-57d4c757c8c3",
      "metadata": {
        "id": "b9be383e-5165-436e-80c8-57d4c757c8c3"
      },
      "source": [
        "2. Using the original Dataframe, analyze the average total_claim_amount by each policy type and gender for customers who have responded \"Yes\" to the last marketing campaign. Write your conclusions."
      ]
    },
    {
      "cell_type": "code",
      "execution_count": 25,
      "id": "b0d3e416",
      "metadata": {},
      "outputs": [
        {
          "name": "stdout",
          "output_type": "stream",
          "text": [
            "policy_type     gender\n",
            "Personal Auto   M         457.010178\n",
            "Special Auto    F         453.280164\n",
            "Personal Auto   F         452.965929\n",
            "Corporate Auto  F         433.738499\n",
            "Special Auto    M         429.527942\n",
            "Corporate Auto  M         408.582459\n",
            "Name: total_claim_amount, dtype: float64\n"
          ]
        }
      ],
      "source": [
        "yes_df = df[df['response'] == 'Yes']\n",
        "\n",
        "p_g_df = yes_df.groupby(['policy_type','gender'])['total_claim_amount'].mean().sort_values(ascending=False)\n",
        "\n",
        "print(p_g_df)\n",
        "\n",
        "#For makes, Personal Auto is the the one who gathers the most claim amount, while for Females, the Special Auto is best.\n"
      ]
    },
    {
      "cell_type": "markdown",
      "id": "7050f4ac-53c5-4193-a3c0-8699b87196f0",
      "metadata": {
        "id": "7050f4ac-53c5-4193-a3c0-8699b87196f0"
      },
      "source": [
        "3. Analyze the total number of customers who have policies in each state, and then filter the results to only include states where there are more than 500 customers."
      ]
    },
    {
      "cell_type": "code",
      "execution_count": 26,
      "id": "c4aa7902",
      "metadata": {},
      "outputs": [
        {
          "name": "stdout",
          "output_type": "stream",
          "text": [
            "        state  customer_count\n",
            "0     Arizona            1937\n",
            "1  California            3552\n",
            "2      Nevada             993\n",
            "3      Oregon            2909\n",
            "4  Washington             888\n"
          ]
        },
        {
          "data": {
            "text/plain": [
              "state       policy_type   \n",
              "Arizona     Personal Auto     1469\n",
              "            Corporate Auto     381\n",
              "            Special Auto        87\n",
              "California  Personal Auto     2594\n",
              "            Corporate Auto     835\n",
              "            Special Auto       123\n",
              "Nevada      Personal Auto      739\n",
              "            Corporate Auto     219\n",
              "            Special Auto        35\n",
              "Oregon      Personal Auto     2180\n",
              "            Corporate Auto     592\n",
              "            Special Auto       137\n",
              "Washington  Personal Auto      682\n",
              "            Corporate Auto     175\n",
              "            Special Auto        31\n",
              "Name: count, dtype: int64"
            ]
          },
          "execution_count": 26,
          "metadata": {},
          "output_type": "execute_result"
        }
      ],
      "source": [
        "customers_per_state = df.groupby('state').size().reset_index(name='customer_count')\n",
        "print(customers_per_state)\n",
        "filtered_states = customers_per_state[customers_per_state['customer_count'] > 500]\n",
        "df500 = df[df['state'].isin(filtered_states['state'])]\n",
        "\n",
        "df500.groupby('state')['policy_type'].value_counts()"
      ]
    },
    {
      "cell_type": "markdown",
      "id": "b60a4443-a1a7-4bbf-b78e-9ccdf9895e0d",
      "metadata": {
        "id": "b60a4443-a1a7-4bbf-b78e-9ccdf9895e0d"
      },
      "source": [
        "4. Find the maximum, minimum, and median customer lifetime value by education level and gender. Write your conclusions."
      ]
    },
    {
      "cell_type": "code",
      "execution_count": 33,
      "id": "54eaa0a9",
      "metadata": {},
      "outputs": [
        {
          "name": "stdout",
          "output_type": "stream",
          "text": [
            "                                     max          min         mean\n",
            "education            gender                                       \n",
            "High School or Below F       55277.44589  2144.921535  8675.220201\n",
            "Master               M       50568.25912  2272.307310  8168.832659\n",
            "                     F       51016.06704  2417.777032  8157.053154\n",
            "High School or Below M       83325.38119  1940.981221  8149.687783\n",
            "College              M       61134.68307  1918.119700  8052.459288\n",
            "Bachelor             F       73225.95652  1904.000852  7874.269478\n",
            "College              F       61850.18803  1898.683686  7748.823325\n",
            "Bachelor             M       67907.27050  1898.007675  7703.601675\n",
            "Doctor               M       32677.34284  2267.604038  7415.333638\n",
            "                     F       44856.11397  2395.570000  7328.508916\n"
          ]
        }
      ],
      "source": [
        "clv_df = df.groupby(['education', 'gender'])['customer_lifetime_value'].agg(['max','min','mean']).sort_values('mean', ascending=False)\n",
        "print(clv_df)"
      ]
    },
    {
      "cell_type": "markdown",
      "id": "b42999f9-311f-481e-ae63-40a5577072c5",
      "metadata": {
        "id": "b42999f9-311f-481e-ae63-40a5577072c5"
      },
      "source": [
        "## Bonus"
      ]
    },
    {
      "cell_type": "markdown",
      "id": "81ff02c5-6584-4f21-a358-b918697c6432",
      "metadata": {
        "id": "81ff02c5-6584-4f21-a358-b918697c6432"
      },
      "source": [
        "5. The marketing team wants to analyze the number of policies sold by state and month. Present the data in a table where the months are arranged as columns and the states are arranged as rows."
      ]
    },
    {
      "cell_type": "markdown",
      "id": "b6aec097-c633-4017-a125-e77a97259cda",
      "metadata": {
        "id": "b6aec097-c633-4017-a125-e77a97259cda"
      },
      "source": [
        "6.  Display a new DataFrame that contains the number of policies sold by month, by state, for the top 3 states with the highest number of policies sold.\n",
        "\n",
        "*Hint:*\n",
        "- *To accomplish this, you will first need to group the data by state and month, then count the number of policies sold for each group. Afterwards, you will need to sort the data by the count of policies sold in descending order.*\n",
        "- *Next, you will select the top 3 states with the highest number of policies sold.*\n",
        "- *Finally, you will create a new DataFrame that contains the number of policies sold by month for each of the top 3 states.*"
      ]
    },
    {
      "cell_type": "markdown",
      "id": "ba975b8a-a2cf-4fbf-9f59-ebc381767009",
      "metadata": {
        "id": "ba975b8a-a2cf-4fbf-9f59-ebc381767009"
      },
      "source": [
        "7. The marketing team wants to analyze the effect of different marketing channels on the customer response rate.\n",
        "\n",
        "Hint: You can use melt to unpivot the data and create a table that shows the customer response rate (those who responded \"Yes\") by marketing channel."
      ]
    },
    {
      "cell_type": "markdown",
      "id": "e4378d94-48fb-4850-a802-b1bc8f427b2d",
      "metadata": {
        "id": "e4378d94-48fb-4850-a802-b1bc8f427b2d"
      },
      "source": [
        "External Resources for Data Filtering: https://towardsdatascience.com/filtering-data-frames-in-pandas-b570b1f834b9"
      ]
    },
    {
      "cell_type": "code",
      "execution_count": null,
      "id": "449513f4-0459-46a0-a18d-9398d974c9ad",
      "metadata": {
        "id": "449513f4-0459-46a0-a18d-9398d974c9ad"
      },
      "outputs": [],
      "source": [
        "# your code goes here"
      ]
    }
  ],
  "metadata": {
    "colab": {
      "provenance": []
    },
    "kernelspec": {
      "display_name": "Python 3 (ipykernel)",
      "language": "python",
      "name": "python3"
    },
    "language_info": {
      "codemirror_mode": {
        "name": "ipython",
        "version": 3
      },
      "file_extension": ".py",
      "mimetype": "text/x-python",
      "name": "python",
      "nbconvert_exporter": "python",
      "pygments_lexer": "ipython3",
      "version": "3.12.4"
    }
  },
  "nbformat": 4,
  "nbformat_minor": 5
}
